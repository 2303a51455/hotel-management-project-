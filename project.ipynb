{
  "nbformat": 4,
  "nbformat_minor": 0,
  "metadata": {
    "colab": {
      "provenance": [],
      "authorship_tag": "ABX9TyPaQzf1qJFnU2qZWS0ygF7i",
      "include_colab_link": true
    },
    "kernelspec": {
      "name": "python3",
      "display_name": "Python 3"
    },
    "language_info": {
      "name": "python"
    }
  },
  "cells": [
    {
      "cell_type": "markdown",
      "metadata": {
        "id": "view-in-github",
        "colab_type": "text"
      },
      "source": [
        "<a href=\"https://colab.research.google.com/github/2303a51455/hotel-management-project-/blob/main/project.ipynb\" target=\"_parent\"><img src=\"https://colab.research.google.com/assets/colab-badge.svg\" alt=\"Open In Colab\"/></a>"
      ]
    },
    {
      "cell_type": "code",
      "source": [
        "import sys\n",
        "\n",
        "class Reservation:\n",
        "    def __init__(self, booking_id, guest_name, room_number, nights):\n",
        "        self.booking_id = booking_id\n",
        "        self.guest_name = guest_name\n",
        "        self.room_number = room_number\n",
        "        self.nights = nights\n",
        "\n",
        "class HotelManagement:\n",
        "    def __init__(self):\n",
        "        self.reservations = []\n",
        "        self.next_id = 1\n",
        "\n",
        "    def add_reservation(self):\n",
        "        guest_name = input(\"Enter Guest Name: \")\n",
        "        room_number = int(input(\"Enter Room Number: \"))\n",
        "        nights = int(input(\"Enter Number of Nights: \"))\n",
        "        reservation = Reservation(self.next_id, guest_name, room_number, nights)\n",
        "        self.reservations.append(reservation)\n",
        "        print(f\"\\nBooking Confirmed! Booking ID: {self.next_id}\\n\")\n",
        "        self.next_id += 1\n",
        "\n",
        "    def view_reservations(self):\n",
        "        if not self.reservations:\n",
        "            print(\"\\nNo Reservations Available.\\n\")\n",
        "            return\n",
        "        print(\"\\nCurrent Reservations:\")\n",
        "        for res in self.reservations:\n",
        "            print(f\"Booking ID: {res.booking_id}, Guest: {res.guest_name}, Room: {res.room_number}, Nights: {res.nights}\")\n",
        "\n",
        "    def cancel_reservation(self):\n",
        "        try:\n",
        "            booking_id = int(input(\"\\nEnter Booking ID to cancel: \"))\n",
        "            for i, res in enumerate(self.reservations):\n",
        "                if res.booking_id == booking_id:\n",
        "                    del self.reservations[i]\n",
        "                    print(f\"\\nBooking ID {booking_id} has been canceled.\\n\")\n",
        "                    return\n",
        "            print(\"\\nBooking ID not found.\\n\")\n",
        "        except ValueError:\n",
        "            print(\"\\nInvalid input. Please enter a valid Booking ID.\\n\")\n",
        "\n",
        "    def run(self):\n",
        "        while True:\n",
        "            print(\"\\nHotel Management System\")\n",
        "            print(\"1. Add Reservation\\n2. View Reservations\\n3. Cancel Reservation\\n4. Exit\")\n",
        "            choice = input(\"Choose an option: \")\n",
        "\n",
        "            if choice == '1':\n",
        "                self.add_reservation()\n",
        "            elif choice == '2':\n",
        "                self.view_reservations()\n",
        "            elif choice == '3':\n",
        "                self.cancel_reservation()\n",
        "            elif choice == '4':\n",
        "                print(\"\\nExiting...\\n\")\n",
        "                sys.exit()\n",
        "            else:\n",
        "                print(\"\\nInvalid option. Try again.\\n\")\n",
        "\n",
        "if __name__ == \"__main__\":\n",
        "    HotelManagement().run()\n"
      ],
      "metadata": {
        "colab": {
          "base_uri": "https://localhost:8080/"
        },
        "id": "Kh4Vg47MpLJy",
        "outputId": "d05b35f8-fd5a-44d2-dff6-d39093d94373"
      },
      "execution_count": null,
      "outputs": [
        {
          "output_type": "stream",
          "name": "stdout",
          "text": [
            "\n",
            "Hotel Management System\n",
            "1. Add Reservation\n",
            "2. View Reservations\n",
            "3. Cancel Reservation\n",
            "4. Exit\n"
          ]
        }
      ]
    }
  ]
}